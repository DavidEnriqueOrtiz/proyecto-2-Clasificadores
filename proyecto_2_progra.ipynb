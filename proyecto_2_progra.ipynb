{
  "nbformat": 4,
  "nbformat_minor": 0,
  "metadata": {
    "colab": {
      "provenance": [],
      "include_colab_link": true
    },
    "kernelspec": {
      "name": "python3",
      "display_name": "Python 3"
    },
    "language_info": {
      "name": "python"
    }
  },
  "cells": [
    {
      "cell_type": "markdown",
      "metadata": {
        "id": "view-in-github",
        "colab_type": "text"
      },
      "source": [
        "<a href=\"https://colab.research.google.com/github/DavidEnriqueOrtiz/proyecto-2-Clasificadores/blob/main/proyecto_2_progra.ipynb\" target=\"_parent\"><img src=\"https://colab.research.google.com/assets/colab-badge.svg\" alt=\"Open In Colab\"/></a>"
      ]
    },
    {
      "cell_type": "markdown",
      "source": [
        "# Clasificación con Modelos Supervisados\n",
        "\n",
        "Este código implementa un análisis de datos para clasificación usando **Regresión Logística** y **k-Nearest Neighbors (k-NN)**. A continuación, un resumen de los pasos:\n",
        "\n",
        "\n",
        "\n",
        "## 1. **Carga y Preprocesamiento de Datos**\n",
        "\n",
        "- **Lectura del archivo CSV:** Se cargan los datos, excluyendo los encabezados.\n",
        "- **Separación de datos:** Las características (`X`) y etiquetas (`y`) se dividen en conjuntos de entrenamiento (70%) y validación (30%) con `train_test_split`.\n",
        "- **Manejo de errores:** Se gestionan excepciones por problemas de archivo o formato.\n",
        "\n",
        "## 2. **Modelos Implementados**\n",
        "\n",
        "1. **Regresión Logística:**\n",
        "   - Entrena el modelo con `LogisticRegression`.\n",
        "   - Calcula predicciones y métricas de desempeño.\n",
        "\n",
        "2. **k-NN:**\n",
        "   - Utiliza `KNeighborsClassifier` con un valor predeterminado de `k=3`.\n",
        "   - Evalúa las predicciones con métricas estándar.\n",
        "\n",
        "\n",
        "\n",
        "## 3. **Evaluación y Resultados**\n",
        "\n",
        "- **Métricas:** Precisión, reporte de clasificación y matriz de confusión.\n",
        "- **Gráfica:** Comparación de las precisiones en un gráfico de barras.\n"
      ],
      "metadata": {
        "id": "GCYjV9AIYKHL"
      }
    },
    {
      "cell_type": "code",
      "source": [
        "from csv import reader\n",
        "from math import sqrt\n",
        "from random import seed, shuffle\n",
        "import matplotlib.pyplot as plt\n",
        "from sklearn.linear_model import LogisticRegression\n",
        "from sklearn.neighbors import KNeighborsClassifier\n",
        "from sklearn.model_selection import train_test_split\n",
        "from sklearn.metrics import accuracy_score, classification_report, confusion_matrix\n",
        "\n",
        "class Clasificadores:\n",
        "    def __init__(self, archivo_csv):\n",
        "        # Manejo de excepciones al cargar datos\n",
        "        try:\n",
        "            with open(archivo_csv, 'r') as archivo:\n",
        "                datos = list(reader(archivo))\n",
        "                self.datos = datos[1:]  # Excluir encabezados\n",
        "        except FileNotFoundError:\n",
        "            print(f\"Error: El archivo {archivo_csv} no se encontró.\")\n",
        "            raise\n",
        "        except Exception as e:\n",
        "            print(f\"Error al procesar el archivo CSV: {e}\")\n",
        "            raise\n",
        "\n",
        "        # Separar características (X) y etiquetas (y)\n",
        "        self.X = [list(map(float, fila[2:])) for fila in self.datos]  # Características\n",
        "        self.y = [fila[1] for fila in self.datos]  # Etiquetas\n",
        "\n",
        "        # División de datos\n",
        "        self.X_train, self.X_val, self.y_train, self.y_val = train_test_split(\n",
        "            self.X, self.y, test_size=0.3, random_state=42\n",
        "        )\n",
        "\n",
        "    def logistic_regression(self):\n",
        "        # Clasificador: Regresión Logística\n",
        "        modelo = LogisticRegression(max_iter=200)\n",
        "        modelo.fit(self.X_train, self.y_train)\n",
        "        y_pred = modelo.predict(self.X_val)\n",
        "        self.mostrar_metricas(\"Logistic Regression\", y_pred)\n",
        "        return accuracy_score(self.y_val, y_pred)\n",
        "\n",
        "    def knn(self, k=3):\n",
        "        # Clasificador: k-Nearest Neighbors\n",
        "        modelo = KNeighborsClassifier(n_neighbors=k)\n",
        "        modelo.fit(self.X_train, self.y_train)\n",
        "        y_pred = modelo.predict(self.X_val)\n",
        "        self.mostrar_metricas(\"k-NN\", y_pred)\n",
        "        return accuracy_score(self.y_val, y_pred)\n",
        "\n",
        "    def mostrar_metricas(self, nombre, y_pred):\n",
        "        # Imprime métricas para el modelo\n",
        "        print(f\"\\nModelo: {nombre}\")\n",
        "        print(f\"Precisión: {accuracy_score(self.y_val, y_pred):.2f}\")\n",
        "        print(\"Reporte de Clasificación:\")\n",
        "        print(classification_report(self.y_val, y_pred))\n",
        "        print(\"Matriz de Confusión:\")\n",
        "        print(confusion_matrix(self.y_val, y_pred))\n",
        "\n",
        "    def graficar_resultados(self, resultados):\n",
        "        # Genera una gráfica de barras con los resultados\n",
        "        nombres = [nombre for nombre, _ in resultados]\n",
        "        precisiones = [precision for _, precision in resultados]\n",
        "\n",
        "        plt.figure(figsize=(10, 6))\n",
        "        plt.bar(nombres, precisiones, color='skyblue')\n",
        "        plt.title('Precisión de los Modelos', fontsize=14)\n",
        "        plt.xlabel('Modelo', fontsize=12)\n",
        "        plt.ylabel('Precisión', fontsize=12)\n",
        "        plt.ylim(0, 1)\n",
        "        plt.xticks(rotation=45, fontsize=10)\n",
        "        plt.tight_layout()\n",
        "        plt.show()\n",
        "\n",
        "    def entrenar_y_evaluar(self):\n",
        "        # Entrena y evalúa múltiples clasificadores\n",
        "        modelos = {\n",
        "            \"Logistic Regression\": self.logistic_regression,\n",
        "            \"k-NN\": self.knn\n",
        "        }\n",
        "\n",
        "        resultados = []\n",
        "        for nombre, metodo in modelos.items():\n",
        "            try:\n",
        "                print(f\"Entrenando modelo: {nombre}\")\n",
        "                precision = metodo()\n",
        "                resultados.append((nombre, precision))\n",
        "            except Exception as e:\n",
        "                print(f\"Error en {nombre}: {e}\")\n",
        "\n",
        "        self.graficar_resultados(resultados)\n",
        "        return resultados\n",
        "\n",
        "if __name__ == \"__main__\":\n",
        "    archivo_csv = \"cancer.csv\"  # Archivo con datos de cáncer\n",
        "    modelo_clasificadores = Clasificadores(archivo_csv)\n",
        "    resultados = modelo_clasificadores.entrenar_y_evaluar()\n",
        "\n",
        "    if resultados:\n",
        "        mejor_modelo = max(resultados, key=lambda x: x[1])\n",
        "        print(f\"\\nEl mejor modelo es: {mejor_modelo[0]} con precisión de {mejor_modelo[1]:.2f}\")\n"
      ],
      "metadata": {
        "colab": {
          "base_uri": "https://localhost:8080/",
          "height": 1000
        },
        "id": "MbRLh5iBR5oE",
        "outputId": "0611854e-4db3-4193-e243-9c2f520fd718"
      },
      "execution_count": 5,
      "outputs": [
        {
          "output_type": "stream",
          "name": "stdout",
          "text": [
            "Entrenando modelo: Logistic Regression\n",
            "\n",
            "Modelo: Logistic Regression\n",
            "Precisión: 0.97\n",
            "Reporte de Clasificación:\n",
            "              precision    recall  f1-score   support\n",
            "\n",
            "           B       0.96      1.00      0.98        89\n",
            "           M       1.00      0.93      0.97        61\n",
            "\n",
            "    accuracy                           0.97       150\n",
            "   macro avg       0.98      0.97      0.97       150\n",
            "weighted avg       0.97      0.97      0.97       150\n",
            "\n",
            "Matriz de Confusión:\n",
            "[[89  0]\n",
            " [ 4 57]]\n",
            "Entrenando modelo: k-NN\n"
          ]
        },
        {
          "output_type": "stream",
          "name": "stderr",
          "text": [
            "/usr/local/lib/python3.10/dist-packages/sklearn/linear_model/_logistic.py:469: ConvergenceWarning: lbfgs failed to converge (status=1):\n",
            "STOP: TOTAL NO. of ITERATIONS REACHED LIMIT.\n",
            "\n",
            "Increase the number of iterations (max_iter) or scale the data as shown in:\n",
            "    https://scikit-learn.org/stable/modules/preprocessing.html\n",
            "Please also refer to the documentation for alternative solver options:\n",
            "    https://scikit-learn.org/stable/modules/linear_model.html#logistic-regression\n",
            "  n_iter_i = _check_optimize_result(\n"
          ]
        },
        {
          "output_type": "stream",
          "name": "stdout",
          "text": [
            "\n",
            "Modelo: k-NN\n",
            "Precisión: 0.95\n",
            "Reporte de Clasificación:\n",
            "              precision    recall  f1-score   support\n",
            "\n",
            "           B       0.95      0.98      0.96        89\n",
            "           M       0.97      0.92      0.94        61\n",
            "\n",
            "    accuracy                           0.95       150\n",
            "   macro avg       0.96      0.95      0.95       150\n",
            "weighted avg       0.95      0.95      0.95       150\n",
            "\n",
            "Matriz de Confusión:\n",
            "[[87  2]\n",
            " [ 5 56]]\n"
          ]
        },
        {
          "output_type": "display_data",
          "data": {
            "text/plain": [
              "<Figure size 1000x600 with 1 Axes>"
            ],
            "image/png": "[encoded data removed]"
          },
          "metadata": {}
        },
        {
          "output_type": "stream",
          "name": "stdout",
          "text": [
            "\n",
            "El mejor modelo es: Logistic Regression con precisión de 0.97\n"
          ]
        }
      ]
    },
    {
      "cell_type": "code",
      "source": [],
      "metadata": {
        "id": "DZGN0jRgSZFi"
      },
      "execution_count": null,
      "outputs": []
    }
  ]
}